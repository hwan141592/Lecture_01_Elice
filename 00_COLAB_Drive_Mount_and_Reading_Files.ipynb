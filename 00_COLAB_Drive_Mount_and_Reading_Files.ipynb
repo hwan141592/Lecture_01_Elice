{
  "nbformat": 4,
  "nbformat_minor": 0,
  "metadata": {
    "colab": {
      "name": "00_COLAB_Drive_Mount_and_Reading_Files",
      "provenance": [],
      "collapsed_sections": [],
      "authorship_tag": "ABX9TyNYQ9gZ9tmjKSdXGWmmLW8J",
      "include_colab_link": true
    },
    "kernelspec": {
      "name": "python3",
      "display_name": "Python 3"
    }
  },
  "cells": [
    {
      "cell_type": "markdown",
      "metadata": {
        "id": "view-in-github",
        "colab_type": "text"
      },
      "source": [
        "<a href=\"https://colab.research.google.com/github/hwan141592/Lecture_01_Elice/blob/master/00_COLAB_Drive_Mount_and_Reading_Files.ipynb\" target=\"_parent\"><img src=\"https://colab.research.google.com/assets/colab-badge.svg\" alt=\"Open In Colab\"/></a>"
      ]
    },
    {
      "cell_type": "markdown",
      "metadata": {
        "id": "fPZ1AOdYu4R-"
      },
      "source": [
        "# Base"
      ]
    },
    {
      "cell_type": "code",
      "metadata": {
        "id": "VjHGGtxGKMS4"
      },
      "source": [
        "import os\n",
        "import pandas as pd\n",
        "import numpy as np\n",
        "import matplotlib.pyplot as plt"
      ],
      "execution_count": 1,
      "outputs": []
    },
    {
      "cell_type": "markdown",
      "metadata": {
        "id": "uv3BNvgBvc7M"
      },
      "source": [
        "&nbsp;"
      ]
    },
    {
      "cell_type": "markdown",
      "metadata": {
        "id": "AF6WrON8nJk9"
      },
      "source": [
        "# Directory Structure : **content >> drive >> My Drive >> lec_elice**"
      ]
    },
    {
      "cell_type": "code",
      "metadata": {
        "id": "LouC5C6Tjj1N",
        "outputId": "01256318-90bf-42a1-f085-6b35de260389",
        "colab": {
          "base_uri": "https://localhost:8080/",
          "height": 35
        }
      },
      "source": [
        "import os\n",
        "os.getcwd()"
      ],
      "execution_count": null,
      "outputs": [
        {
          "output_type": "execute_result",
          "data": {
            "application/vnd.google.colaboratory.intrinsic+json": {
              "type": "string"
            },
            "text/plain": [
              "'/content'"
            ]
          },
          "metadata": {
            "tags": []
          },
          "execution_count": 1
        }
      ]
    },
    {
      "cell_type": "code",
      "metadata": {
        "id": "vf6P4xCPjmSa",
        "outputId": "f7791fa8-35f5-4fbf-f97d-d2377a966f03",
        "colab": {
          "base_uri": "https://localhost:8080/"
        }
      },
      "source": [
        "os.listdir()"
      ],
      "execution_count": null,
      "outputs": [
        {
          "output_type": "execute_result",
          "data": {
            "text/plain": [
              "['.config', 'sample_data']"
            ]
          },
          "metadata": {
            "tags": []
          },
          "execution_count": 2
        }
      ]
    },
    {
      "cell_type": "code",
      "metadata": {
        "id": "VYZ-rvTXkMo7",
        "outputId": "1a1712c0-4b64-4641-cd18-716a68f09111",
        "colab": {
          "base_uri": "https://localhost:8080/"
        }
      },
      "source": [
        "from google.colab import drive\n",
        "drive.mount(\"/content/drive\")"
      ],
      "execution_count": null,
      "outputs": [
        {
          "output_type": "stream",
          "text": [
            "Mounted at /content/drive\n"
          ],
          "name": "stdout"
        }
      ]
    },
    {
      "cell_type": "code",
      "metadata": {
        "id": "KAhp6nYRkMtV",
        "outputId": "f67852b4-3be9-4cbc-edd0-22bedf1b442b",
        "colab": {
          "base_uri": "https://localhost:8080/"
        }
      },
      "source": [
        "cd 'drive/My Drive/lec_elice'"
      ],
      "execution_count": null,
      "outputs": [
        {
          "output_type": "stream",
          "text": [
            "/content/drive/My Drive/lec_elice\n"
          ],
          "name": "stdout"
        }
      ]
    },
    {
      "cell_type": "code",
      "metadata": {
        "id": "ioKmm8PAmqls",
        "outputId": "26359ef9-7a57-480a-a636-216f28f9909d",
        "colab": {
          "base_uri": "https://localhost:8080/"
        }
      },
      "source": [
        "os.listdir()"
      ],
      "execution_count": null,
      "outputs": [
        {
          "output_type": "execute_result",
          "data": {
            "text/plain": [
              "['data', 'Human_vs_AI.ipynb', '00_Drive_Mounting.ipynb']"
            ]
          },
          "metadata": {
            "tags": []
          },
          "execution_count": 6
        }
      ]
    },
    {
      "cell_type": "code",
      "metadata": {
        "id": "X298fBY0kMmt",
        "outputId": "f11d7171-1e6a-41f0-f2f9-94227486fb13",
        "colab": {
          "base_uri": "https://localhost:8080/"
        }
      },
      "source": [
        "ls -al"
      ],
      "execution_count": null,
      "outputs": [
        {
          "output_type": "stream",
          "text": [
            "total 42\n",
            "-rw------- 1 root root  7825 Nov 13 07:55 00_Drive_Mounting.ipynb\n",
            "drwx------ 2 root root  4096 Nov 13 07:20 \u001b[0m\u001b[01;34mdata\u001b[0m/\n",
            "-rw------- 1 root root 30529 Nov 13 07:38 Human_vs_AI.ipynb\n"
          ],
          "name": "stdout"
        }
      ]
    },
    {
      "cell_type": "markdown",
      "metadata": {
        "id": "sJh56jOOqr8X"
      },
      "source": [
        "&nbsp;"
      ]
    },
    {
      "cell_type": "markdown",
      "metadata": {
        "id": "j7Hnz2g0natA"
      },
      "source": [
        "# Reading Data for Quiz"
      ]
    },
    {
      "cell_type": "code",
      "metadata": {
        "id": "lE1M_8ZOnd8A"
      },
      "source": [
        "import pandas as pd\n",
        "seoul_df = pd.read_csv('./data/seoul_df.csv')\n",
        "seoul_info = pd.read_csv('./data/seoul_info.csv')\n",
        "world_corona = pd.read_csv('./data/world_corona_201104.csv')"
      ],
      "execution_count": null,
      "outputs": []
    },
    {
      "cell_type": "code",
      "metadata": {
        "id": "2X1ejbCtJNW0"
      },
      "source": [
        ""
      ],
      "execution_count": null,
      "outputs": []
    },
    {
      "cell_type": "code",
      "metadata": {
        "id": "vvDCyft3KdHw"
      },
      "source": [
        ""
      ],
      "execution_count": null,
      "outputs": []
    }
  ]
}