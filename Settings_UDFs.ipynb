{
 "cells": [
  {
   "cell_type": "code",
   "execution_count": 1,
   "metadata": {},
   "outputs": [],
   "source": [
    "import seaborn as sns\n",
    "import missingno as msno"
   ]
  },
  {
   "cell_type": "code",
   "execution_count": 2,
   "metadata": {},
   "outputs": [],
   "source": [
    "def null_check_for_loop(df):\n",
    "    for col in df.columns :\n",
    "        msg = 'column: {:>10}\\t Pearcent of NaN value: {:.2f}%'.format(col, 100*(df[col].isnull().sum() / df[col].shape[0]))\n",
    "        print(msg)\n",
    "        \n",
    "def null_check_msno_matrix_default(df):\n",
    "    msno.matrix(df)\n",
    "    \n",
    "def null_check_msno_matrix_cust(df):\n",
    "    msno.matrix(df=df.iloc[:, :], figsize=(8,2), color=(0.8, 0.5, 0.2))\n",
    "    \n",
    "def null_check_msno_bar(df):\n",
    "    msno.bar(df)\n",
    "    \n",
    "def null_check_sns_heatmap(df):\n",
    "    sns.heatmap(df.isnull(), cbar=False)"
   ]
  },
  {
   "cell_type": "code",
   "execution_count": null,
   "metadata": {},
   "outputs": [],
   "source": []
  }
 ],
 "metadata": {
  "kernelspec": {
   "display_name": "Python 3",
   "language": "python",
   "name": "python3"
  },
  "language_info": {
   "codemirror_mode": {
    "name": "ipython",
    "version": 3
   },
   "file_extension": ".py",
   "mimetype": "text/x-python",
   "name": "python",
   "nbconvert_exporter": "python",
   "pygments_lexer": "ipython3",
   "version": "3.8.2"
  }
 },
 "nbformat": 4,
 "nbformat_minor": 4
}
