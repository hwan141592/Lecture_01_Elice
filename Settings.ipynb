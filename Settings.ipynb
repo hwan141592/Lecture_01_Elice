{
 "cells": [
  {
   "cell_type": "code",
   "execution_count": 69,
   "metadata": {},
   "outputs": [
    {
     "data": {
      "text/html": [
       "<style>.container { width:95% !important; }</style>"
      ],
      "text/plain": [
       "<IPython.core.display.HTML object>"
      ]
     },
     "metadata": {},
     "output_type": "display_data"
    },
    {
     "data": {
      "text/html": [
       "<style>.prompt bdi { display:none !important; }</style>"
      ],
      "text/plain": [
       "<IPython.core.display.HTML object>"
      ]
     },
     "metadata": {},
     "output_type": "display_data"
    }
   ],
   "source": [
    "import warnings; from IPython.core.display import display, HTML; \n",
    "display(HTML(\"<style>.container { width:95% !important; }</style>\")); warnings.filterwarnings('ignore')\n",
    "display(HTML(\"<style>.prompt bdi { display:none !important; }</style>\"))"
   ]
  },
  {
   "cell_type": "code",
   "execution_count": 70,
   "metadata": {},
   "outputs": [],
   "source": [
    "def null_check_for_loop(df):\n",
    "    all_null_sum = 0\n",
    "    for col in df.columns :        \n",
    "        all_null_sum = all_null_sum + df[col].isnull().sum()\n",
    "    if all_null_sum == 0:\n",
    "        print('There is no null value in the DataFrame.')\n",
    "    else:\n",
    "        for col in df.columns :\n",
    "            print(\"{:.2f}% : column '{}'\".format(100*(df[col].isnull().sum() / df[col].shape[0]), col))"
   ]
  },
  {
   "cell_type": "code",
   "execution_count": 71,
   "metadata": {},
   "outputs": [],
   "source": [
    "import pandas as pd \n",
    "import matplotlib.pyplot as plt\n",
    "import warnings\n",
    "from pandasql import sqldf\n",
    "\n",
    "pd.set_option('max_columns', None)\n",
    "pd.set_option('max_rows', None)\n",
    "pd.set_option('display.max_colwidth', -1)  \n",
    "pd.options.display.max_columns = 100 \n",
    "pd.options.display.max_rows = 1000 \n",
    "plt.rcParams['font.family'] = 'AppleGothic'\n",
    "plt.rcParams['axes.unicode_minus']=False\n",
    "plt.style.use('ggplot')   # fivethirtyeight\n",
    "psd = lambda q: sqldf(q, globals())\n",
    "warnings.filterwarnings('ignore')"
   ]
  },
  {
   "cell_type": "code",
   "execution_count": null,
   "metadata": {},
   "outputs": [],
   "source": []
  }
 ],
 "metadata": {
  "kernelspec": {
   "display_name": "Python 3 (ipykernel)",
   "language": "python",
   "name": "python3"
  },
  "language_info": {
   "codemirror_mode": {
    "name": "ipython",
    "version": 3
   },
   "file_extension": ".py",
   "mimetype": "text/x-python",
   "name": "python",
   "nbconvert_exporter": "python",
   "pygments_lexer": "ipython3",
   "version": "3.8.2"
  }
 },
 "nbformat": 4,
 "nbformat_minor": 4
}
