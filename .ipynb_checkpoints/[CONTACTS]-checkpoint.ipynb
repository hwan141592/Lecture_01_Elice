{
 "cells": [
  {
   "cell_type": "markdown",
   "metadata": {},
   "source": [
    "# Lecturer Info."
   ]
  },
  {
   "cell_type": "markdown",
   "metadata": {},
   "source": [
    "\n",
    " - e-mail : volunteerhwan@gmail.com  \n",
    "\n",
    "\n",
    " - LinkedIn : https://www.linkedin.com/in/da-devangelist/\n",
    "\n",
    "\n",
    " - github : https://github.com/hwaneest\n",
    "\n",
    "\n",
    " - Q&A : https://www.itdaa.net/mentors/136505 >> 로그인 & 질문 \n",
    "\n",
    "\n",
    " - mentoring : https://waechijun.com/forum/view/459479 >> [멘토링] 세션 \n",
    "\n",
    "\n",
    " - class(DA Basic) : https://waechijun.com/forum/view/459479 >> [실습] 세션 \n",
    "\n",
    "\n",
    "\n",
    "<!-- open kakaotalk : https://open.kakao.com/me/lecturek  --> \n",
    "\n",
    "\n",
    " - Group & Connection : slack group invitation (by. hwaneest)"
   ]
  },
  {
   "cell_type": "markdown",
   "metadata": {},
   "source": [
    "### Notes"
   ]
  },
  {
   "cell_type": "markdown",
   "metadata": {},
   "source": [
    "\n",
    " - (e-mail) e-mail을 남기실 때에는 저도 기억할 수 있도록 소속과 인연을 언급해주세요 :)\n",
    "\n",
    "\n",
    " - (LinkedIn) LinkedIn으로 연락주실 때는 간단한 인사를 남겨 주시면 제가 더 잘 기억할 수 있을 것 같아요 :)\n",
    "\n",
    "\n",
    " - (github) github의 Lectures 레포지토리는 가끔씩(^^) 업데이트되는 저장소입니다. 때때로 찾아오세요 :)\n",
    "\n",
    "\n",
    " - (Q&A) itdaa라는 멘토링 플랫폼에서 고민 1~2가지에 대해서 자세히 글을 남겨주시면 5일 안에 최대한 성의껏 답변을 해드리고 있어요 :)\n",
    "\n",
    "\n",
    " - (mentoring) 재능기부의 일환으로 소그룹(1:3) 멘토링을 통해 진로에 대한 고민을 함께 나눠드리고 있어요 :)\n",
    "\n",
    " \n",
    " - (class - DA Basic) 데이터분석이 처음이신 분들을 위해 데이터분석 이론과 실습을 수업 형태로 진행하고 있어요 :) \n",
    "   \n",
    "   \n",
    " - Group & Connection : 그룹을 지어 프로젝트/스터디 등을 진행했을 때 피드백을 제공해 드리고 있어요 :) 좋은 인연으로 뵙기를!"
   ]
  },
  {
   "cell_type": "code",
   "execution_count": null,
   "metadata": {},
   "outputs": [],
   "source": []
  }
 ],
 "metadata": {
  "kernelspec": {
   "display_name": "Python 3",
   "language": "python",
   "name": "python3"
  },
  "language_info": {
   "codemirror_mode": {
    "name": "ipython",
    "version": 3
   },
   "file_extension": ".py",
   "mimetype": "text/x-python",
   "name": "python",
   "nbconvert_exporter": "python",
   "pygments_lexer": "ipython3",
   "version": "3.8.3"
  }
 },
 "nbformat": 4,
 "nbformat_minor": 4
}
