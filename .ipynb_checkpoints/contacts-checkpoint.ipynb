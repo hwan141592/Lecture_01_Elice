{
 "cells": [
  {
   "cell_type": "markdown",
   "metadata": {},
   "source": [
    "# Lecturer Info."
   ]
  },
  {
   "cell_type": "markdown",
   "metadata": {},
   "source": [
    "\n",
    " - e-mail : volunteerhwan@gmail.com  \n",
    "\n",
    "\n",
    " - LinkedIn : https://www.linkedin.com/in/da-devangelist/\n",
    "\n",
    "\n",
    " - github : https://github.com/hwaneest\n",
    "\n",
    "\n",
    " - Q&A : https://www.itdaa.net/mentors/136505 >> 로그인 & 질문 \n",
    "\n",
    "\n",
    " - mentoring : https://waechijun.com/forum/view/459479 >> [멘토링] 세션 \n",
    "\n",
    "\n",
    " - class(DA Basic) : https://waechijun.com/forum/view/459479 >> [실습] 세션 \n",
    "\n",
    "\n",
    "\n",
    "<!-- open kakaotalk : https://open.kakao.com/me/lecturek  --> \n",
    "\n",
    "\n",
    " - Group & Connection : slack group invitation (by. Kim)"
   ]
  },
  {
   "cell_type": "markdown",
   "metadata": {},
   "source": [
    "### Notes"
   ]
  },
  {
   "cell_type": "markdown",
   "metadata": {},
   "source": [
    "\n",
    " - (e-mail) e-mail을 남길 때는 제가 멘티님을 기억할 수 있도록 소속과 인연을 언급해주세요 :)\n",
    "\n",
    "\n",
    " - (LinkedIn) LinkedIn은 1촌 추가를 하며 간단한 인사를 남겨 주시면 멘티님을 더 잘 기억할 수 있을 것 같아요 :)\n",
    "\n",
    "\n",
    " - (github) github은 팔로우 해두시면 Lecture 레포지토리에서 다양한 자료들을 때때로 보실 수 있을 것 같네요 :)\n",
    "\n",
    "\n",
    " - (Q&A) itdaa라는 곳에서 고민 1~2가지에 대해서 자세히 글을 남겨주시면 5일 안에 최대한 성의껏 답변을 해드리고 있어요 :)\n",
    "\n",
    "\n",
    " - (mentoring) 재능기부의 일환으로 소그룹(1:3) 멘토링을 통해 진로에 대한 고민을 함께 나눠드리고 있어요 :)\n",
    "\n",
    " \n",
    " - (class - DA Basic) 데이터분석이 처음이신 분들을 위해 데이터분석 이론과 실습을 수업 형태로 진행하고 있어요!   <br>\n",
    "   다른 경우와 다르게 비용이 발생하지만 해당 금액들 또한 모여 의미 있는 곳에 사용될 예정이니 많은 참여 부탁드립니다 :)\n",
    "   \n",
    "   \n",
    " - Group & Connection : 그룹을 지어 프로젝트/스터디 등을 진행했을 때 피드백을 드려요 :) 필드에서 좋은 인연으로 뵙기를!"
   ]
  },
  {
   "cell_type": "code",
   "execution_count": null,
   "metadata": {},
   "outputs": [],
   "source": []
  }
 ],
 "metadata": {
  "kernelspec": {
   "display_name": "Python 3",
   "language": "python",
   "name": "python3"
  },
  "language_info": {
   "codemirror_mode": {
    "name": "ipython",
    "version": 3
   },
   "file_extension": ".py",
   "mimetype": "text/x-python",
   "name": "python",
   "nbconvert_exporter": "python",
   "pygments_lexer": "ipython3",
   "version": "3.8.3"
  }
 },
 "nbformat": 4,
 "nbformat_minor": 4
}
