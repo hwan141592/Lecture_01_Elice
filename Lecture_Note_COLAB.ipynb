{
  "nbformat": 4,
  "nbformat_minor": 0,
  "metadata": {
    "colab": {
      "name": "[Lecture_Note] COLAB.ipynb",
      "provenance": [],
      "collapsed_sections": [
        "SdegnDDHcI8B",
        "5TRI92JddgW_",
        "PQBX4gQzdzC1",
        "VJTgr2ZSgP_B"
      ],
      "authorship_tag": "ABX9TyPhPKEWQJjb4u/PBKIjrPrd",
      "include_colab_link": true
    },
    "kernelspec": {
      "name": "python3",
      "display_name": "Python 3"
    },
    "language_info": {
      "name": "python"
    }
  },
  "cells": [
    {
      "cell_type": "markdown",
      "metadata": {
        "id": "view-in-github",
        "colab_type": "text"
      },
      "source": [
        "<a href=\"https://colab.research.google.com/github/hwaneest/Lectures/blob/master/Lecture_Note_COLAB.ipynb\" target=\"_parent\"><img src=\"https://colab.research.google.com/assets/colab-badge.svg\" alt=\"Open In Colab\"/></a>"
      ]
    },
    {
      "cell_type": "markdown",
      "metadata": {
        "id": "SdegnDDHcI8B"
      },
      "source": [
        "# [01] Linux Commands"
      ]
    },
    {
      "cell_type": "code",
      "metadata": {
        "colab": {
          "base_uri": "https://localhost:8080/",
          "height": 35
        },
        "id": "5mZLxcRlcQTu",
        "outputId": "c73f4ed7-c94f-4795-93b4-7a7a73623632"
      },
      "source": [
        "pwd   # print working directory"
      ],
      "execution_count": 5,
      "outputs": [
        {
          "output_type": "execute_result",
          "data": {
            "application/vnd.google.colaboratory.intrinsic+json": {
              "type": "string"
            },
            "text/plain": [
              "'/content'"
            ]
          },
          "metadata": {
            "tags": []
          },
          "execution_count": 5
        }
      ]
    },
    {
      "cell_type": "code",
      "metadata": {
        "colab": {
          "base_uri": "https://localhost:8080/"
        },
        "id": "8bQrySdVb7fH",
        "outputId": "ada1a11b-a708-48ec-a330-aa3144652372"
      },
      "source": [
        "ls   # list segments"
      ],
      "execution_count": 6,
      "outputs": [
        {
          "output_type": "stream",
          "text": [
            "\u001b[0m\u001b[01;34msample_data\u001b[0m/\n"
          ],
          "name": "stdout"
        }
      ]
    },
    {
      "cell_type": "code",
      "metadata": {
        "colab": {
          "base_uri": "https://localhost:8080/"
        },
        "id": "3sX2zc3kcOi0",
        "outputId": "df032201-d98b-4a79-82fc-c30bf573f167"
      },
      "source": [
        "ls -a   # all"
      ],
      "execution_count": 7,
      "outputs": [
        {
          "output_type": "stream",
          "text": [
            "\u001b[0m\u001b[01;34m.\u001b[0m/  \u001b[01;34m..\u001b[0m/  \u001b[01;34m.config\u001b[0m/  \u001b[01;34msample_data\u001b[0m/\n"
          ],
          "name": "stdout"
        }
      ]
    },
    {
      "cell_type": "code",
      "metadata": {
        "colab": {
          "base_uri": "https://localhost:8080/"
        },
        "id": "t_O-xPzpcaRv",
        "outputId": "02c734c5-1e82-47c9-f36d-41771f7d6c4f"
      },
      "source": [
        "ls -l   # long : permission, #files, owner, group, file_size, mod.date, file_name"
      ],
      "execution_count": 4,
      "outputs": [
        {
          "output_type": "stream",
          "text": [
            "total 4\n",
            "drwxr-xr-x 1 root root 4096 Mar 18 13:36 \u001b[0m\u001b[01;34msample_data\u001b[0m/\n"
          ],
          "name": "stdout"
        }
      ]
    },
    {
      "cell_type": "code",
      "metadata": {
        "colab": {
          "base_uri": "https://localhost:8080/"
        },
        "id": "KoxAj4iscbUK",
        "outputId": "725756db-4907-483f-e366-d16632118fef"
      },
      "source": [
        "ls -al"
      ],
      "execution_count": 8,
      "outputs": [
        {
          "output_type": "stream",
          "text": [
            "total 16\n",
            "drwxr-xr-x 1 root root 4096 Mar 18 13:36 \u001b[0m\u001b[01;34m.\u001b[0m/\n",
            "drwxr-xr-x 1 root root 4096 Mar 22 14:55 \u001b[01;34m..\u001b[0m/\n",
            "drwxr-xr-x 4 root root 4096 Mar 18 13:36 \u001b[01;34m.config\u001b[0m/\n",
            "drwxr-xr-x 1 root root 4096 Mar 18 13:36 \u001b[01;34msample_data\u001b[0m/\n"
          ],
          "name": "stdout"
        }
      ]
    },
    {
      "cell_type": "code",
      "metadata": {
        "id": "VNoxTcLFd7uJ"
      },
      "source": [
        "mkdir test_dir   # make directory"
      ],
      "execution_count": 15,
      "outputs": []
    },
    {
      "cell_type": "code",
      "metadata": {
        "colab": {
          "base_uri": "https://localhost:8080/"
        },
        "id": "2zXI5Nv5eQnq",
        "outputId": "4e0b8740-a6e4-4429-a88a-55328085c871"
      },
      "source": [
        "ls -al"
      ],
      "execution_count": 16,
      "outputs": [
        {
          "output_type": "stream",
          "text": [
            "total 20\n",
            "drwxr-xr-x 1 root root 4096 Mar 22 15:06 \u001b[0m\u001b[01;34m.\u001b[0m/\n",
            "drwxr-xr-x 1 root root 4096 Mar 22 14:55 \u001b[01;34m..\u001b[0m/\n",
            "drwxr-xr-x 4 root root 4096 Mar 18 13:36 \u001b[01;34m.config\u001b[0m/\n",
            "drwxr-xr-x 1 root root 4096 Mar 18 13:36 \u001b[01;34msample_data\u001b[0m/\n",
            "drwxr-xr-x 2 root root 4096 Mar 22 15:06 \u001b[01;34mtest_dir\u001b[0m/\n"
          ],
          "name": "stdout"
        }
      ]
    },
    {
      "cell_type": "code",
      "metadata": {
        "colab": {
          "base_uri": "https://localhost:8080/"
        },
        "id": "auvt6Fr2eQlX",
        "outputId": "96022d7a-32af-468b-a804-820f962028df"
      },
      "source": [
        "cd test_dir   # change directory"
      ],
      "execution_count": 17,
      "outputs": [
        {
          "output_type": "stream",
          "text": [
            "/content/test_dir\n"
          ],
          "name": "stdout"
        }
      ]
    },
    {
      "cell_type": "code",
      "metadata": {
        "colab": {
          "base_uri": "https://localhost:8080/"
        },
        "id": "imKwTmBleQi5",
        "outputId": "5c3bdc64-3ff3-4c05-8b39-953953cece83"
      },
      "source": [
        "ls -al"
      ],
      "execution_count": 18,
      "outputs": [
        {
          "output_type": "stream",
          "text": [
            "total 8\n",
            "drwxr-xr-x 2 root root 4096 Mar 22 15:06 \u001b[0m\u001b[01;34m.\u001b[0m/\n",
            "drwxr-xr-x 1 root root 4096 Mar 22 15:06 \u001b[01;34m..\u001b[0m/\n"
          ],
          "name": "stdout"
        }
      ]
    },
    {
      "cell_type": "code",
      "metadata": {
        "colab": {
          "base_uri": "https://localhost:8080/"
        },
        "id": "vK8Ie9hheQaT",
        "outputId": "6fbd61dc-ad43-495c-fbdd-b154b9facc5d"
      },
      "source": [
        "cd .."
      ],
      "execution_count": 37,
      "outputs": [
        {
          "output_type": "stream",
          "text": [
            "/content\n"
          ],
          "name": "stdout"
        }
      ]
    },
    {
      "cell_type": "markdown",
      "metadata": {
        "id": "R6i5jQtWfV6b"
      },
      "source": [
        " > **'cd ..'** >>> go back to previous directory"
      ]
    },
    {
      "cell_type": "markdown",
      "metadata": {
        "id": "b8AX9HwSdP58"
      },
      "source": [
        "#### materials\n",
        " - https://dora-guide.com/linux-commands/\n",
        " - https://withcoding.com/89"
      ]
    },
    {
      "cell_type": "markdown",
      "metadata": {
        "id": "5TRI92JddgW_"
      },
      "source": [
        "# [02] COLAB Directory Structure"
      ]
    },
    {
      "cell_type": "code",
      "metadata": {
        "colab": {
          "base_uri": "https://localhost:8080/",
          "height": 35
        },
        "id": "N4GBL5A5dPLv",
        "outputId": "d26a1a8d-9576-4761-e74d-9272b20d5038"
      },
      "source": [
        "import os\n",
        "os.getcwd()"
      ],
      "execution_count": 38,
      "outputs": [
        {
          "output_type": "execute_result",
          "data": {
            "application/vnd.google.colaboratory.intrinsic+json": {
              "type": "string"
            },
            "text/plain": [
              "'/content'"
            ]
          },
          "metadata": {
            "tags": []
          },
          "execution_count": 38
        }
      ]
    },
    {
      "cell_type": "code",
      "metadata": {
        "colab": {
          "base_uri": "https://localhost:8080/",
          "height": 35
        },
        "id": "aW0gWxyXdqWl",
        "outputId": "fb53ca04-853d-4b20-a493-a0e6fde8bc4f"
      },
      "source": [
        "pwd"
      ],
      "execution_count": 39,
      "outputs": [
        {
          "output_type": "execute_result",
          "data": {
            "application/vnd.google.colaboratory.intrinsic+json": {
              "type": "string"
            },
            "text/plain": [
              "'/content'"
            ]
          },
          "metadata": {
            "tags": []
          },
          "execution_count": 39
        }
      ]
    },
    {
      "cell_type": "code",
      "metadata": {
        "colab": {
          "base_uri": "https://localhost:8080/"
        },
        "id": "P11lmWvtdsD5",
        "outputId": "eafd9724-8a30-47a5-ee98-61de51b07f71"
      },
      "source": [
        "os.listdir()"
      ],
      "execution_count": 40,
      "outputs": [
        {
          "output_type": "execute_result",
          "data": {
            "text/plain": [
              "['.config', 'test_dir', 'sample_data']"
            ]
          },
          "metadata": {
            "tags": []
          },
          "execution_count": 40
        }
      ]
    },
    {
      "cell_type": "markdown",
      "metadata": {
        "id": "PQBX4gQzdzC1"
      },
      "source": [
        "#### (explore) sample_data directory"
      ]
    },
    {
      "cell_type": "code",
      "metadata": {
        "colab": {
          "base_uri": "https://localhost:8080/"
        },
        "id": "KBU9lY6jdtjK",
        "outputId": "cb0f97d8-e4aa-4cbe-a4eb-a323ca42690e"
      },
      "source": [
        "cd sample_data"
      ],
      "execution_count": 41,
      "outputs": [
        {
          "output_type": "stream",
          "text": [
            "/content/sample_data\n"
          ],
          "name": "stdout"
        }
      ]
    },
    {
      "cell_type": "code",
      "metadata": {
        "colab": {
          "base_uri": "https://localhost:8080/"
        },
        "id": "vBjCWbmjekrT",
        "outputId": "84414fad-908f-48c7-d193-5192a6792b96"
      },
      "source": [
        "ls -al"
      ],
      "execution_count": 42,
      "outputs": [
        {
          "output_type": "stream",
          "text": [
            "total 55512\n",
            "drwxr-xr-x 1 root root     4096 Mar 18 13:36 \u001b[0m\u001b[01;34m.\u001b[0m/\n",
            "drwxr-xr-x 1 root root     4096 Mar 22 15:06 \u001b[01;34m..\u001b[0m/\n",
            "-rwxr-xr-x 1 root root     1697 Jan  1  2000 \u001b[01;32manscombe.json\u001b[0m*\n",
            "-rw-r--r-- 1 root root   301141 Mar 18 13:36 california_housing_test.csv\n",
            "-rw-r--r-- 1 root root  1706430 Mar 18 13:36 california_housing_train.csv\n",
            "-rw-r--r-- 1 root root 18289443 Mar 18 13:36 mnist_test.csv\n",
            "-rw-r--r-- 1 root root 36523880 Mar 18 13:36 mnist_train_small.csv\n",
            "-rwxr-xr-x 1 root root      930 Jan  1  2000 \u001b[01;32mREADME.md\u001b[0m*\n"
          ],
          "name": "stdout"
        }
      ]
    },
    {
      "cell_type": "code",
      "metadata": {
        "colab": {
          "base_uri": "https://localhost:8080/"
        },
        "id": "osaTY2YFemQu",
        "outputId": "8e4fd254-4416-4561-b4c7-b04ab0fa3526"
      },
      "source": [
        "cat README.md   # concatenate.   ex) cat file1 file2 file3"
      ],
      "execution_count": 45,
      "outputs": [
        {
          "output_type": "stream",
          "text": [
            "This directory includes a few sample datasets to get you started.\n",
            "\n",
            "*   `california_housing_data*.csv` is California housing data from the 1990 US\n",
            "    Census; more information is available at:\n",
            "    https://developers.google.com/machine-learning/crash-course/california-housing-data-description\n",
            "\n",
            "*   `mnist_*.csv` is a small sample of the\n",
            "    [MNIST database](https://en.wikipedia.org/wiki/MNIST_database), which is\n",
            "    described at: http://yann.lecun.com/exdb/mnist/\n",
            "\n",
            "*   `anscombe.json` contains a copy of\n",
            "    [Anscombe's quartet](https://en.wikipedia.org/wiki/Anscombe%27s_quartet); it\n",
            "    was originally described in\n",
            "\n",
            "    Anscombe, F. J. (1973). 'Graphs in Statistical Analysis'. American\n",
            "    Statistician. 27 (1): 17-21. JSTOR 2682899.\n",
            "\n",
            "    and our copy was prepared by the\n",
            "    [vega_datasets library](https://github.com/altair-viz/vega_datasets/blob/4f67bdaad10f45e3549984e17e1b3088c731503d/vega_datasets/_data/anscombe.json).\n"
          ],
          "name": "stdout"
        }
      ]
    },
    {
      "cell_type": "code",
      "metadata": {
        "colab": {
          "base_uri": "https://localhost:8080/",
          "height": 128
        },
        "id": "RYQKeOG_fqEk",
        "outputId": "457024db-9a61-4826-d2cf-30e6ffd36778"
      },
      "source": [
        "import pandas as pd\n",
        "df = pd.read_csv('california_housing_train.csv')\n",
        "df.head(2)"
      ],
      "execution_count": 46,
      "outputs": [
        {
          "output_type": "execute_result",
          "data": {
            "text/html": [
              "<div>\n",
              "<style scoped>\n",
              "    .dataframe tbody tr th:only-of-type {\n",
              "        vertical-align: middle;\n",
              "    }\n",
              "\n",
              "    .dataframe tbody tr th {\n",
              "        vertical-align: top;\n",
              "    }\n",
              "\n",
              "    .dataframe thead th {\n",
              "        text-align: right;\n",
              "    }\n",
              "</style>\n",
              "<table border=\"1\" class=\"dataframe\">\n",
              "  <thead>\n",
              "    <tr style=\"text-align: right;\">\n",
              "      <th></th>\n",
              "      <th>longitude</th>\n",
              "      <th>latitude</th>\n",
              "      <th>housing_median_age</th>\n",
              "      <th>total_rooms</th>\n",
              "      <th>total_bedrooms</th>\n",
              "      <th>population</th>\n",
              "      <th>households</th>\n",
              "      <th>median_income</th>\n",
              "      <th>median_house_value</th>\n",
              "    </tr>\n",
              "  </thead>\n",
              "  <tbody>\n",
              "    <tr>\n",
              "      <th>0</th>\n",
              "      <td>-114.31</td>\n",
              "      <td>34.19</td>\n",
              "      <td>15.0</td>\n",
              "      <td>5612.0</td>\n",
              "      <td>1283.0</td>\n",
              "      <td>1015.0</td>\n",
              "      <td>472.0</td>\n",
              "      <td>1.4936</td>\n",
              "      <td>66900.0</td>\n",
              "    </tr>\n",
              "    <tr>\n",
              "      <th>1</th>\n",
              "      <td>-114.47</td>\n",
              "      <td>34.40</td>\n",
              "      <td>19.0</td>\n",
              "      <td>7650.0</td>\n",
              "      <td>1901.0</td>\n",
              "      <td>1129.0</td>\n",
              "      <td>463.0</td>\n",
              "      <td>1.8200</td>\n",
              "      <td>80100.0</td>\n",
              "    </tr>\n",
              "  </tbody>\n",
              "</table>\n",
              "</div>"
            ],
            "text/plain": [
              "   longitude  latitude  ...  median_income  median_house_value\n",
              "0    -114.31     34.19  ...         1.4936             66900.0\n",
              "1    -114.47     34.40  ...         1.8200             80100.0\n",
              "\n",
              "[2 rows x 9 columns]"
            ]
          },
          "metadata": {
            "tags": []
          },
          "execution_count": 46
        }
      ]
    },
    {
      "cell_type": "code",
      "metadata": {
        "colab": {
          "base_uri": "https://localhost:8080/",
          "height": 128
        },
        "id": "L7Pg28RagCLi",
        "outputId": "cc321e68-0905-43e0-d4a1-49a545fccdb1"
      },
      "source": [
        "import pandas as pd\n",
        "df = pd.read_csv('./california_housing_train.csv')\n",
        "df.head(2)"
      ],
      "execution_count": 47,
      "outputs": [
        {
          "output_type": "execute_result",
          "data": {
            "text/html": [
              "<div>\n",
              "<style scoped>\n",
              "    .dataframe tbody tr th:only-of-type {\n",
              "        vertical-align: middle;\n",
              "    }\n",
              "\n",
              "    .dataframe tbody tr th {\n",
              "        vertical-align: top;\n",
              "    }\n",
              "\n",
              "    .dataframe thead th {\n",
              "        text-align: right;\n",
              "    }\n",
              "</style>\n",
              "<table border=\"1\" class=\"dataframe\">\n",
              "  <thead>\n",
              "    <tr style=\"text-align: right;\">\n",
              "      <th></th>\n",
              "      <th>longitude</th>\n",
              "      <th>latitude</th>\n",
              "      <th>housing_median_age</th>\n",
              "      <th>total_rooms</th>\n",
              "      <th>total_bedrooms</th>\n",
              "      <th>population</th>\n",
              "      <th>households</th>\n",
              "      <th>median_income</th>\n",
              "      <th>median_house_value</th>\n",
              "    </tr>\n",
              "  </thead>\n",
              "  <tbody>\n",
              "    <tr>\n",
              "      <th>0</th>\n",
              "      <td>-114.31</td>\n",
              "      <td>34.19</td>\n",
              "      <td>15.0</td>\n",
              "      <td>5612.0</td>\n",
              "      <td>1283.0</td>\n",
              "      <td>1015.0</td>\n",
              "      <td>472.0</td>\n",
              "      <td>1.4936</td>\n",
              "      <td>66900.0</td>\n",
              "    </tr>\n",
              "    <tr>\n",
              "      <th>1</th>\n",
              "      <td>-114.47</td>\n",
              "      <td>34.40</td>\n",
              "      <td>19.0</td>\n",
              "      <td>7650.0</td>\n",
              "      <td>1901.0</td>\n",
              "      <td>1129.0</td>\n",
              "      <td>463.0</td>\n",
              "      <td>1.8200</td>\n",
              "      <td>80100.0</td>\n",
              "    </tr>\n",
              "  </tbody>\n",
              "</table>\n",
              "</div>"
            ],
            "text/plain": [
              "   longitude  latitude  ...  median_income  median_house_value\n",
              "0    -114.31     34.19  ...         1.4936             66900.0\n",
              "1    -114.47     34.40  ...         1.8200             80100.0\n",
              "\n",
              "[2 rows x 9 columns]"
            ]
          },
          "metadata": {
            "tags": []
          },
          "execution_count": 47
        }
      ]
    },
    {
      "cell_type": "code",
      "metadata": {
        "colab": {
          "base_uri": "https://localhost:8080/",
          "height": 35
        },
        "id": "qVDBrtHSgEg7",
        "outputId": "12d81f0a-4efb-4c33-ec11-dfb5de4a4079"
      },
      "source": [
        "pwd"
      ],
      "execution_count": 48,
      "outputs": [
        {
          "output_type": "execute_result",
          "data": {
            "application/vnd.google.colaboratory.intrinsic+json": {
              "type": "string"
            },
            "text/plain": [
              "'/content/sample_data'"
            ]
          },
          "metadata": {
            "tags": []
          },
          "execution_count": 48
        }
      ]
    },
    {
      "cell_type": "code",
      "metadata": {
        "colab": {
          "base_uri": "https://localhost:8080/"
        },
        "id": "iEa3O46tgNqk",
        "outputId": "20432672-db05-45b8-a5ba-180bf67c4c56"
      },
      "source": [
        "cd .."
      ],
      "execution_count": 49,
      "outputs": [
        {
          "output_type": "stream",
          "text": [
            "/content\n"
          ],
          "name": "stdout"
        }
      ]
    },
    {
      "cell_type": "markdown",
      "metadata": {
        "id": "VJTgr2ZSgP_B"
      },
      "source": [
        "# [03] Google Drive Mounting"
      ]
    },
    {
      "cell_type": "code",
      "metadata": {
        "colab": {
          "base_uri": "https://localhost:8080/",
          "height": 35
        },
        "id": "wRsG3_DXgOIM",
        "outputId": "56775458-03ec-4079-a4f5-487fd799b5db"
      },
      "source": [
        "pwd"
      ],
      "execution_count": 50,
      "outputs": [
        {
          "output_type": "execute_result",
          "data": {
            "application/vnd.google.colaboratory.intrinsic+json": {
              "type": "string"
            },
            "text/plain": [
              "'/content'"
            ]
          },
          "metadata": {
            "tags": []
          },
          "execution_count": 50
        }
      ]
    },
    {
      "cell_type": "code",
      "metadata": {
        "colab": {
          "base_uri": "https://localhost:8080/"
        },
        "id": "XTsThRQ7gcye",
        "outputId": "b7b4bb46-0dee-4f9c-a603-99e763fb7d03"
      },
      "source": [
        "from google.colab import drive\n",
        "drive.mount(\"/content/drive\")"
      ],
      "execution_count": 51,
      "outputs": [
        {
          "output_type": "stream",
          "text": [
            "Mounted at /content/drive\n"
          ],
          "name": "stdout"
        }
      ]
    },
    {
      "cell_type": "code",
      "metadata": {
        "colab": {
          "base_uri": "https://localhost:8080/",
          "height": 35
        },
        "id": "K9QyHFkngoLD",
        "outputId": "6beb677c-b71f-4794-a7ec-05e77759d359"
      },
      "source": [
        "pwd"
      ],
      "execution_count": 52,
      "outputs": [
        {
          "output_type": "execute_result",
          "data": {
            "application/vnd.google.colaboratory.intrinsic+json": {
              "type": "string"
            },
            "text/plain": [
              "'/content'"
            ]
          },
          "metadata": {
            "tags": []
          },
          "execution_count": 52
        }
      ]
    },
    {
      "cell_type": "code",
      "metadata": {
        "colab": {
          "base_uri": "https://localhost:8080/"
        },
        "id": "buuYXfbCg0q8",
        "outputId": "dcb33b1b-e9dd-4b6a-9393-8bd20b923063"
      },
      "source": [
        "ls -al"
      ],
      "execution_count": 53,
      "outputs": [
        {
          "output_type": "stream",
          "text": [
            "total 24\n",
            "drwxr-xr-x 1 root root 4096 Mar 22 15:17 \u001b[0m\u001b[01;34m.\u001b[0m/\n",
            "drwxr-xr-x 1 root root 4096 Mar 22 14:55 \u001b[01;34m..\u001b[0m/\n",
            "drwxr-xr-x 4 root root 4096 Mar 18 13:36 \u001b[01;34m.config\u001b[0m/\n",
            "drwx------ 5 root root 4096 Mar 22 15:17 \u001b[01;34mdrive\u001b[0m/\n",
            "drwxr-xr-x 1 root root 4096 Mar 18 13:36 \u001b[01;34msample_data\u001b[0m/\n",
            "drwxr-xr-x 2 root root 4096 Mar 22 15:06 \u001b[01;34mtest_dir\u001b[0m/\n"
          ],
          "name": "stdout"
        }
      ]
    },
    {
      "cell_type": "code",
      "metadata": {
        "colab": {
          "base_uri": "https://localhost:8080/"
        },
        "id": "avQA0aK5g3Q2",
        "outputId": "ed26604c-b12e-4dc5-be95-9f839f199fc5"
      },
      "source": [
        "cd drive"
      ],
      "execution_count": 54,
      "outputs": [
        {
          "output_type": "stream",
          "text": [
            "/content/drive\n"
          ],
          "name": "stdout"
        }
      ]
    },
    {
      "cell_type": "code",
      "metadata": {
        "colab": {
          "base_uri": "https://localhost:8080/"
        },
        "id": "aZx3dW3xg415",
        "outputId": "10eefaf8-f4dc-4f2a-f8d7-41312be66c7f"
      },
      "source": [
        "ls -al"
      ],
      "execution_count": 55,
      "outputs": [
        {
          "output_type": "stream",
          "text": [
            "total 16\n",
            "dr-x------ 2 root root 4096 Mar 22 15:17 \u001b[0m\u001b[01;34m.file-revisions-by-id\u001b[0m/\n",
            "drwx------ 4 root root 4096 Mar 22 15:17 \u001b[01;34mMyDrive\u001b[0m/\n",
            "dr-x------ 2 root root 4096 Mar 22 15:17 \u001b[01;34m.shortcut-targets-by-id\u001b[0m/\n",
            "drwx------ 2 root root 4096 Mar 22 15:17 \u001b[01;34m.Trash\u001b[0m/\n"
          ],
          "name": "stdout"
        }
      ]
    },
    {
      "cell_type": "code",
      "metadata": {
        "colab": {
          "base_uri": "https://localhost:8080/"
        },
        "id": "j_-_iMNmg6E2",
        "outputId": "01dd2233-793f-422c-e995-0b9304f718ab"
      },
      "source": [
        "cd MyDrive"
      ],
      "execution_count": 56,
      "outputs": [
        {
          "output_type": "stream",
          "text": [
            "/content/drive/MyDrive\n"
          ],
          "name": "stdout"
        }
      ]
    },
    {
      "cell_type": "code",
      "metadata": {
        "colab": {
          "base_uri": "https://localhost:8080/"
        },
        "id": "Y1i1eLw1g7PW",
        "outputId": "ab699f7b-fd1c-4569-d681-51c5555477d3"
      },
      "source": [
        "ls -al"
      ],
      "execution_count": 57,
      "outputs": [
        {
          "output_type": "stream",
          "text": [
            "total 74705\n",
            "-rw------- 1 root root 74928689 Sep  9  2017  For_Mr.Henry.zip\n",
            "-rw------- 1 root root  1560010 Aug  3  2017 'Getting started.pdf'\n",
            "drwx------ 2 root root     4096 Mar 22 14:40  \u001b[0m\u001b[01;34mKDT_2021\u001b[0m/\n",
            "drwx------ 2 root root     4096 Mar 20 12:03  \u001b[01;34mWCJ_2021\u001b[0m/\n"
          ],
          "name": "stdout"
        }
      ]
    },
    {
      "cell_type": "code",
      "metadata": {
        "colab": {
          "base_uri": "https://localhost:8080/"
        },
        "id": "L77-21B3g8NL",
        "outputId": "524ac938-273f-4d38-bdbc-24430a3833ba"
      },
      "source": [
        "cd KDT_2021/"
      ],
      "execution_count": 58,
      "outputs": [
        {
          "output_type": "stream",
          "text": [
            "/content/drive/My Drive/KDT_2021\n"
          ],
          "name": "stdout"
        }
      ]
    },
    {
      "cell_type": "code",
      "metadata": {
        "colab": {
          "base_uri": "https://localhost:8080/"
        },
        "id": "QEfBXxsHhDEx",
        "outputId": "01860c93-a29c-40b3-baca-1637985ea762"
      },
      "source": [
        "ls -al"
      ],
      "execution_count": 59,
      "outputs": [
        {
          "output_type": "stream",
          "text": [
            "total 22\n",
            "-rw------- 1 root root 21697 Mar 22 15:18 '[Lecture_Note] COLAB.ipynb'\n"
          ],
          "name": "stdout"
        }
      ]
    },
    {
      "cell_type": "code",
      "metadata": {
        "id": "boQAYkLVhDs3"
      },
      "source": [
        ""
      ],
      "execution_count": null,
      "outputs": []
    }
  ]
}